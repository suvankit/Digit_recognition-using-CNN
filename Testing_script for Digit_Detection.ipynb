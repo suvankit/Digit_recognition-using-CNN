{
 "cells": [
  {
   "cell_type": "code",
   "execution_count": 1,
   "metadata": {},
   "outputs": [],
   "source": [
    "#importing libraries\n",
    "import numpy as np\n",
    "import cv2\n",
    "import pickle"
   ]
  },
  {
   "cell_type": "code",
   "execution_count": 2,
   "metadata": {},
   "outputs": [
    {
     "name": "stderr",
     "output_type": "stream",
     "text": [
      "Using TensorFlow backend.\n"
     ]
    }
   ],
   "source": [
    "#loading the model\n",
    "pickle_in = open(\"model_trained.p\",\"rb\")\n",
    "model = pickle.load(pickle_in)"
   ]
  },
  {
   "cell_type": "code",
   "execution_count": 3,
   "metadata": {},
   "outputs": [],
   "source": [
    "#preprocessing the function\n",
    "def preProcessing(img):\n",
    "    img = cv2.cvtColor(img,cv2.COLOR_BGR2GRAY)\n",
    "    img = cv2.equalizeHist(img)\n",
    "    img = img/255\n",
    "    return img"
   ]
  },
  {
   "cell_type": "code",
   "execution_count": 4,
   "metadata": {},
   "outputs": [],
   "source": [
    "width = 400\n",
    "height = 480\n",
    "threshold = 0.65 "
   ]
  },
  {
   "cell_type": "code",
   "execution_count": 5,
   "metadata": {},
   "outputs": [],
   "source": [
    "#reading the image\n",
    "imgOriginal = cv2.imread(\"img006-00331.png\", cv2.IMREAD_COLOR)"
   ]
  },
  {
   "cell_type": "code",
   "execution_count": 6,
   "metadata": {},
   "outputs": [],
   "source": [
    "#resizing \n",
    "imS = cv2.resize(imgOriginal, (width, height))"
   ]
  },
  {
   "cell_type": "code",
   "execution_count": 7,
   "metadata": {},
   "outputs": [],
   "source": [
    "#displaying the input image\n",
    "cv2.imshow(\"digit\",imS)\n",
    "cv2.waitKey(0)\n",
    "cv2.destroyAllWindows()"
   ]
  },
  {
   "cell_type": "code",
   "execution_count": 8,
   "metadata": {},
   "outputs": [
    {
     "name": "stdout",
     "output_type": "stream",
     "text": [
      "5 1.0\n"
     ]
    }
   ],
   "source": [
    "img = np.asarray(imgOriginal)\n",
    "img = cv2.resize(img,(32,32))\n",
    "img = preProcessing(img)\n",
    "cv2.imshow(\"Processsed Image\",img)\n",
    "img = img.reshape(1,32,32,1)\n",
    "#Predict\n",
    "classIndex = int(model.predict_classes(img))\n",
    "#print(classIndex)\n",
    "predictions = model.predict(img)\n",
    "#print(predictions)\n",
    "probVal= np.amax(predictions)\n",
    "print(classIndex,probVal)\n",
    " \n",
    "if probVal> threshold:\n",
    "    cv2.putText(imgOriginal,str(classIndex) + \"   \"+str(probVal),\n",
    "                (50,50),cv2.FONT_HERSHEY_COMPLEX,\n",
    "                1,(0,0,255),1)\n",
    " \n",
    "    #cv2.imshow(\"Original Image\",imgOriginal)\n",
    "    im = cv2.resize(imgOriginal, (width, height))\n",
    "    cv2.imshow(\"Original Image\",im)\n",
    "    \n",
    "#    if cv2.waitKey(1) and 0xFF == ord('q'):\n",
    "#        break\n",
    "cv2.waitKey(0)\n",
    "cv2.destroyAllWindows()"
   ]
  },
  {
   "cell_type": "code",
   "execution_count": null,
   "metadata": {},
   "outputs": [],
   "source": []
  }
 ],
 "metadata": {
  "kernelspec": {
   "display_name": "Python 3",
   "language": "python",
   "name": "python3"
  },
  "language_info": {
   "codemirror_mode": {
    "name": "ipython",
    "version": 3
   },
   "file_extension": ".py",
   "mimetype": "text/x-python",
   "name": "python",
   "nbconvert_exporter": "python",
   "pygments_lexer": "ipython3",
   "version": "3.6.12"
  }
 },
 "nbformat": 4,
 "nbformat_minor": 4
}
